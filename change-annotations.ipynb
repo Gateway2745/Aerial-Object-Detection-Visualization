{
 "cells": [
  {
   "cell_type": "code",
   "execution_count": 1,
   "metadata": {},
   "outputs": [
    {
     "data": {
      "text/plain": [
       "'/home/user1/rohit/UAVDT'"
      ]
     },
     "execution_count": 1,
     "metadata": {},
     "output_type": "execute_result"
    }
   ],
   "source": [
    "%pwd"
   ]
  },
  {
   "cell_type": "code",
   "execution_count": 2,
   "metadata": {},
   "outputs": [
    {
     "name": "stdout",
     "output_type": "stream",
     "text": [
      "change-annotations.ipynb  retinanet-uavdt.ipynb     \u001b[0m\u001b[01;34mUAV-benchmark-S\u001b[0m/\r\n",
      "class-mapping.csv         \u001b[01;34mUAV-benchmark-M\u001b[0m/          \u001b[34;42mUAV-benchmark-SOT_v1.0\u001b[0m/\r\n",
      "\u001b[34;42mM_attr\u001b[0m/                   \u001b[34;42mUAV-benchmark-MOTD_v1.0\u001b[0m/  \u001b[01;32mUAV-benchmark-S.zip\u001b[0m*\r\n",
      "\u001b[01;32mpyunzip.py\u001b[0m*               \u001b[01;32mUAV-benchmark-M.zip\u001b[0m*\r\n"
     ]
    }
   ],
   "source": [
    "%ls"
   ]
  },
  {
   "cell_type": "code",
   "execution_count": 3,
   "metadata": {},
   "outputs": [],
   "source": [
    "import os"
   ]
  },
  {
   "cell_type": "code",
   "execution_count": 4,
   "metadata": {},
   "outputs": [],
   "source": [
    "basedir = '/home/user1/rohit/UAVDT'"
   ]
  },
  {
   "cell_type": "code",
   "execution_count": 5,
   "metadata": {},
   "outputs": [],
   "source": [
    "train_images_dir = os.path.join(basedir, 'UAV-benchmark-M')\n",
    "train_annotation_dir = os.path.join(basedir, 'UAV-benchmark-MOTD_v1.0/GT')\n",
    "relative_images_dir = './UAV-benchmark-M'"
   ]
  },
  {
   "cell_type": "code",
   "execution_count": 6,
   "metadata": {},
   "outputs": [
    {
     "name": "stdout",
     "output_type": "stream",
     "text": [
      "['M0101', 'M0201', 'M0202', 'M0203', 'M0204', 'M0205', 'M0206', 'M0207', 'M0208', 'M0209', 'M0210', 'M0301', 'M0401', 'M0402', 'M0403', 'M0501', 'M0601', 'M0602', 'M0603', 'M0604', 'M0605', 'M0606', 'M0701', 'M0702', 'M0703', 'M0704', 'M0801', 'M0802', 'M0901', 'M0902', 'M1001', 'M1002', 'M1003', 'M1004', 'M1005', 'M1006', 'M1007', 'M1008', 'M1009', 'M1101', 'M1102', 'M1201', 'M1202', 'M1301', 'M1302', 'M1303', 'M1304', 'M1305', 'M1306', 'M1401']\n"
     ]
    }
   ],
   "source": [
    "sequences = sorted(os.listdir(train_images_dir))\n",
    "print(sequences)"
   ]
  },
  {
   "cell_type": "code",
   "execution_count": 7,
   "metadata": {},
   "outputs": [
    {
     "name": "stdout",
     "output_type": "stream",
     "text": [
      "20\n"
     ]
    }
   ],
   "source": [
    "test_seq = ['M0203','M0205','M0208','M0209','M0403','M0601','M0602','M0606','M0701','M0801','M0802','M1001','M1004','M1007','M1009','M1101','M1301','M1302','M1303','M1401']\n",
    "print(len(test_seq))"
   ]
  },
  {
   "cell_type": "code",
   "execution_count": 8,
   "metadata": {},
   "outputs": [],
   "source": [
    "class_mappings = {1:'car', 2:'truck', 3:'bus'}"
   ]
  },
  {
   "cell_type": "code",
   "execution_count": 9,
   "metadata": {},
   "outputs": [],
   "source": [
    "train_ann = open('train_ann.csv', 'w')\n",
    "for sequence in sequences:\n",
    "    if(sequence in test_seq):\n",
    "        continue\n",
    "    img_dir = os.path.join(train_images_dir, sequence)\n",
    "    whole_ann = open(os.path.join(train_annotation_dir, sequence +'_gt_whole.txt'))\n",
    "    for line in whole_ann.readlines():\n",
    "        frame_index,_,x1,y1,w,h,_,_,category = line.split(',')\n",
    "        path_to_img = os.path.join(relative_images_dir, sequence, 'img'+ frame_index.zfill(6) + '.jpg')\n",
    "#         print(path_to_img)\n",
    "        x2 = int(x1) + int(w)\n",
    "        y2 = int(y1) + int(h)\n",
    "        str = f'{path_to_img},{x1},{y1},{x2},{y2},{class_mappings[int(category)]}\\n'\n",
    "        train_ann.write(str)\n",
    "train_ann.close()  "
   ]
  },
  {
   "cell_type": "code",
   "execution_count": 10,
   "metadata": {},
   "outputs": [],
   "source": [
    "with open('train_ann.csv', 'r') as f:\n",
    "    sorted_ann = sorted(f)\n",
    "    with open('sorted_train_ann.csv', 'w') as n:\n",
    "        for line in sorted_ann:\n",
    "            n.write(line)"
   ]
  },
  {
   "cell_type": "code",
   "execution_count": 11,
   "metadata": {},
   "outputs": [],
   "source": [
    "new_class_mapping = {0:'car', 1:'truck', 2:'bus'}\n",
    "with open('class-mapping.csv','w') as f:\n",
    "    for (index,category) in new_class_mapping.items():\n",
    "        f.write(f'{category},{index}\\n')"
   ]
  },
  {
   "cell_type": "code",
   "execution_count": null,
   "metadata": {},
   "outputs": [],
   "source": []
  }
 ],
 "metadata": {
  "kernelspec": {
   "display_name": "Python 3",
   "language": "python",
   "name": "python3"
  },
  "language_info": {
   "codemirror_mode": {
    "name": "ipython",
    "version": 3
   },
   "file_extension": ".py",
   "mimetype": "text/x-python",
   "name": "python",
   "nbconvert_exporter": "python",
   "pygments_lexer": "ipython3",
   "version": "3.7.6"
  }
 },
 "nbformat": 4,
 "nbformat_minor": 2
}
